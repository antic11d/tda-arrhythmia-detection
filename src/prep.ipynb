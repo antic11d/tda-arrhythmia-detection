{
 "cells": [
  {
   "cell_type": "code",
   "execution_count": 117,
   "metadata": {},
   "outputs": [],
   "source": [
    "import gudhi\n",
    "import wfdb \n",
    "from wfdb import processing\n",
    "import numpy as np\n",
    "import pandas as pd\n",
    "\n",
    "import persistencecurves as pc\n",
    "\n",
    "from matplotlib import pyplot as plt\n",
    "from mpl_toolkits import mplot3d\n",
    "\n",
    "import scipy as scp"
   ]
  },
  {
   "cell_type": "code",
   "execution_count": null,
   "metadata": {},
   "outputs": [],
   "source": [
    "def quasi_attractorize(series, step):\n",
    "    n = series.shape[0]\n",
    "\n",
    "    z = []\n",
    "    for i in range(n - step + 1):\n",
    "        z.append(series[i:i + step].reshape(1, 3)[0])\n",
    "\n",
    "    return np.array(z)"
   ]
  },
  {
   "cell_type": "code",
   "execution_count": null,
   "metadata": {},
   "outputs": [],
   "source": [
    "def plot_attractor(attractor):\n",
    "    fig = plt.figure()\n",
    "    ax = plt.axes(projection='3d')\n",
    "\n",
    "    ax.scatter(xs=attractor[:, 0],\n",
    "            ys=attractor[:, 1],\n",
    "            zs=attractor[:, 2])\n",
    "    plt.title(f'{len(attractor)}')\n",
    "    plt.show()"
   ]
  },
  {
   "cell_type": "code",
   "execution_count": null,
   "metadata": {},
   "outputs": [],
   "source": [
    "# wfdb.show_ann_labels()"
   ]
  },
  {
   "cell_type": "code",
   "execution_count": 118,
   "metadata": {},
   "outputs": [],
   "source": [
    "beat_annotations = ['N', 'L', 'R', 'B', 'A', 'a', 'J', 'S', 'V', 'r', 'F', 'e', 'j', 'n', 'E', '/', 'f', 'Q', '?']\n",
    "\n",
    "non_beat_annotations = ['[', '!', ']', 'x', '(', ')', 'p', 't', 'u', '`', \"'\", '^', '|', '~', 's', 'T', '*', 'D', '=', '\"', '@']\n",
    "ignore_annotations = ['Q', '?']\n",
    "\n",
    "classes_mapping = {\n",
    "    'N': 0,\n",
    "    '/': 0,\n",
    "    'f': 0,\n",
    "    'F': 1,\n",
    "    'L': 1, \n",
    "    'R': 1,\n",
    "    'B': 1,\n",
    "    'A': 1,\n",
    "    'a': 1, \n",
    "    'J': 1,\n",
    "    'S': 1,\n",
    "    'V': 1,\n",
    "    'r': 1,\n",
    "    'e': 1,\n",
    "    'j': 1,\n",
    "    'n': 1,\n",
    "    'E': 1, \n",
    "    'Q': -1,\n",
    "    '?': -1\n",
    "}"
   ]
  },
  {
   "cell_type": "code",
   "execution_count": null,
   "metadata": {},
   "outputs": [],
   "source": [
    "def calculate_attractors(signal, annotations, event_indexes, step):\n",
    "    n = event_indexes.shape[0]\n",
    "\n",
    "    attractors = []\n",
    "    attractor_annotations = []\n",
    "    for i in range(n - step + 1):\n",
    "        idx1 = event_indexes[i]\n",
    "        idx2 = event_indexes[i+step-1] + 1 \n",
    "        \n",
    "        extracted_signal = signal[idx1:idx2]\n",
    "        \n",
    "        attractor = quasi_attractorize(extracted_signal, step=3)\n",
    "        ann = annotations[i + int(step/2)]\n",
    "\n",
    "        attractors.append(attractor)\n",
    "        attractor_annotations.append(ann)\n",
    "\n",
    "    return attractors, attractor_annotations"
   ]
  },
  {
   "cell_type": "code",
   "execution_count": null,
   "metadata": {},
   "outputs": [],
   "source": [
    "def filter_signal(signal, cutoff_freqs, fs, numtaps):\n",
    "    filter_taps = scp.signal.firwin(numtaps=numtaps, fs=fs, cutoff=cutoff_freqs)\n",
    "    return scp.signal.lfilter(filter_taps, 1.0, x=signal)"
   ]
  },
  {
   "cell_type": "code",
   "execution_count": null,
   "metadata": {},
   "outputs": [],
   "source": [
    "def extract_numpy_from_diag(diagram):\n",
    "    tuples = [x[1] for x in diagram]\n",
    "    xs = np.array([d[0] for d in tuples])\n",
    "    ys = np.array([d[1] for d in tuples])\n",
    "\n",
    "    return np.array([xs, ys]).T"
   ]
  },
  {
   "cell_type": "code",
   "execution_count": null,
   "metadata": {},
   "outputs": [],
   "source": [
    "def get_persistence_diagram(points, plot=False):\n",
    "    gudhi_complex = gudhi.RipsComplex(points=points)\n",
    "    # gudhi_complex = gudhi.AlphaComplex(points=signal)\n",
    "    simplex_tree = gudhi_complex.create_simplex_tree(max_dimension=2)\n",
    "\n",
    "    diag = simplex_tree.persistence()\n",
    "    if plot:\n",
    "        gudhi.plot_persistence_diagram(diag, legend=True)\n",
    "    \n",
    "    return diag"
   ]
  },
  {
   "cell_type": "code",
   "execution_count": null,
   "metadata": {},
   "outputs": [],
   "source": [
    "def get_diagrams(attractors):\n",
    "    return np.array([extract_numpy_from_diag(get_persistence_diagram(att)) for att in attractors])"
   ]
  },
  {
   "cell_type": "code",
   "execution_count": null,
   "metadata": {},
   "outputs": [],
   "source": [
    "def betti_curve(diag, start, stop, num):\n",
    "    D = pc.Diagram(Dgm=diag, globalmaxdeath=None, infinitedeath=float('inf'), inf_policy=\"remove\")\n",
    "    curve = D.Betticurve(meshstart=start, meshstop=stop, num_in_mesh=num)\n",
    "\n",
    "    return curve"
   ]
  },
  {
   "cell_type": "code",
   "execution_count": 48,
   "metadata": {},
   "outputs": [],
   "source": [
    "def get_betti_curves(diagrams):\n",
    "    curves = []\n",
    "    for diag in diagrams:\n",
    "        betti = betti_curve(diag, 0.05, np.max(diag[:, 0]), 10000)\n",
    "        curves.append(betti)\n",
    "    \n",
    "    return np.array(curves)"
   ]
  },
  {
   "cell_type": "code",
   "execution_count": null,
   "metadata": {},
   "outputs": [],
   "source": [
    "def preprocess(record, annotation, new_fs, numtaps, cutoff_freqs):\n",
    "    # Resampling to 200 Hz\n",
    "    zero_channel_signal, resampled_ann = processing.resample_singlechan(record.p_signal[:, 0], annotation, record.fs, new_fs)\n",
    "\n",
    "    # FIR filtering \n",
    "    # TODO how to choose numtaps???\n",
    "    filtered = filter_signal(zero_channel_signal, cutoff_freqs, record.fs, numtaps)\n",
    "\n",
    "    # Normalizing signal to 0, 1\n",
    "    preprocessed_signal = processing.normalize_bound(filtered, lb=0, ub=1)\n",
    "\n",
    "    return preprocessed_signal, resampled_ann"
   ]
  },
  {
   "cell_type": "code",
   "execution_count": null,
   "metadata": {},
   "outputs": [],
   "source": [
    "prep_signal, annotations = preprocess(record, annotation, new_fs=200, numtaps=21, cutoff_freqs=[0.5, 50])"
   ]
  },
  {
   "cell_type": "code",
   "execution_count": null,
   "metadata": {
    "tags": [
     "outputPrepend"
    ]
   },
   "outputs": [],
   "source": [
    "# Skip first event \n",
    "attractors, attractor_anns = calculate_attractors(prep_signal, annotations.symbol[1:], annotations.sample[1:], 3)\n",
    "\n",
    "# TODO drop classes which are in the non_beat_annotations and ignore_annotations\n",
    "classes = list(map(lambda x: classes_mapping[x], attractor_anns))"
   ]
  },
  {
   "cell_type": "code",
   "execution_count": null,
   "metadata": {},
   "outputs": [],
   "source": [
    "plot_attractor(attractors[1])"
   ]
  },
  {
   "cell_type": "code",
   "execution_count": null,
   "metadata": {},
   "outputs": [],
   "source": [
    "# Comparing original and filtered signal\n",
    "# original_resampled, resampled_ann = processing.resample_singlechan(record.p_signal[:, 0], annotation, record.fs, 200)\n",
    "# original_scaled = processing.normalize_bound(original_resampled, lb=0, ub=1)\n",
    "\n",
    "# ax = plt.figure(figsize=(50, 50))\n",
    "# plt.plot(prep_signal)\n",
    "# plt.plot(original_scaled)\n",
    "\n",
    "# plt.legend(labels=['filtered', 'original'])"
   ]
  },
  {
   "cell_type": "code",
   "execution_count": null,
   "metadata": {},
   "outputs": [],
   "source": [
    "j = 0\n",
    "for i in range(len(attractors)):\n",
    "    if classes[i] == 1:\n",
    "        print(i)\n",
    "        j += 1\n",
    "        get_persistence_diagram(attractors[i])\n",
    "    if j == 10:\n",
    "        break"
   ]
  },
  {
   "cell_type": "code",
   "execution_count": null,
   "metadata": {},
   "outputs": [],
   "source": [
    "arrhythmias = [6, 229, 257, 341, 440, 598, 986, 1077, 1084, 1102]\n",
    "diagrams = [extract_numpy_from_diag(get_persistence_diagram(attractors[i])) for i in arrhythmias]"
   ]
  },
  {
   "cell_type": "code",
   "execution_count": null,
   "metadata": {},
   "outputs": [],
   "source": [
    "D_normal = pc.Diagram(Dgm=extract_numpy_from_diag(get_persistence_diagram(attractors[2000])), \n",
    "               globalmaxdeath=None, \n",
    "               infinitedeath=float('inf'), \n",
    "               inf_policy=\"remove\")"
   ]
  },
  {
   "cell_type": "code",
   "execution_count": null,
   "metadata": {},
   "outputs": [],
   "source": [
    "for d in diagrams:\n",
    "    plt.scatter(x=d[:, 0], y=d[:, 1])\n",
    "    plt.legend(labels=[i for i in range(len(diagrams))])"
   ]
  },
  {
   "cell_type": "code",
   "execution_count": null,
   "metadata": {},
   "outputs": [],
   "source": [
    "\n",
    "normal_curve = D_normal.Betticurve(meshstart=0.05, meshstop=np.max(diag[:, 0]), num_in_mesh=100000)"
   ]
  },
  {
   "cell_type": "code",
   "execution_count": null,
   "metadata": {},
   "outputs": [],
   "source": [
    "plt.figure(figsize=(16, 10))\n",
    "\n",
    "plt.plot(normal_curve)\n",
    "plt.plot(curves[0])\n",
    "plt.plot(curves[1])\n",
    "plt.plot(curves[2])\n",
    "plt.plot(curves[3])\n",
    "plt.plot(curves[4])\n",
    "plt.plot(curves[5])\n",
    "plt.plot(curves[6])\n",
    "plt.plot(curves[7])\n",
    "plt.plot(curves[8])\n",
    "\n",
    "plt.legend(labels=['normal', \n",
    "                    f'{arrhythmias[0]}', \n",
    "                    f'{arrhythmias[1]}',\n",
    "                    f'{arrhythmias[2]}',\n",
    "                    f'{arrhythmias[3]}',\n",
    "                    f'{arrhythmias[4]}',\n",
    "                    f'{arrhythmias[5]}',\n",
    "                    f'{arrhythmias[6]}',\n",
    "                    f'{arrhythmias[7]}',\n",
    "                    f'{arrhythmias[8]}'])"
   ]
  },
  {
   "cell_type": "code",
   "execution_count": 41,
   "metadata": {},
   "outputs": [],
   "source": [
    "def read_samples(dirpath, limit=None):\n",
    "    sample_names = []\n",
    "    with open(f'../data/{dirpath}/RECORDS', 'r') as f:\n",
    "        try:\n",
    "            while line := f.readline():\n",
    "                sample_names.append(line[:-1]) # trim \\n\n",
    "        except IOError:\n",
    "            print(f'Error while reading ../data/{dirpath}/RECORDS')\n",
    "    \n",
    "    records = []\n",
    "    annotations = []\n",
    "\n",
    "    # print(records, annotations)\n",
    "\n",
    "    for i, sample in enumerate(sample_names):\n",
    "        # TODO remove limited reading of the samples\n",
    "        annotations.append(wfdb.rdann(f'../data/{dirpath}/{sample}', 'atr', sampfrom=0, sampto=5000))\n",
    "        records.append(wfdb.rdrecord(f'../data/{dirpath}/{sample}', sampfrom=0, sampto=5000))\n",
    "\n",
    "        if i == limit-1:\n",
    "            break\n",
    "\n",
    "    return records, annotations"
   ]
  },
  {
   "cell_type": "code",
   "execution_count": 119,
   "metadata": {},
   "outputs": [],
   "source": [
    "def preprocess_flow(samples, annotations):\n",
    "    curves = []\n",
    "    anns = []\n",
    "\n",
    "    df = pd.DataFrame()\n",
    "\n",
    "    for i, record in enumerate(samples):\n",
    "        prep_signal, resampled_annotation = \\\n",
    "                preprocess(record, annotations[i], new_fs=200, numtaps=21, cutoff_freqs=[0.5, 50])                                 \n",
    "\n",
    "        attractors, attractor_anns = \\\n",
    "                calculate_attractors(prep_signal, resampled_annotation.symbol[1:], resampled_annotation.sample[1:], 3)\n",
    "\n",
    "        diagrams = get_diagrams(attractors) \n",
    "\n",
    "        betti_curves = get_betti_curves(diagrams)\n",
    "\n",
    "        curves.append(betti_curves)\n",
    "        anns.append(attractor_anns)\n",
    "\n",
    "    # TODO should return dataframe with all the extracted curves with corresponding labels\n",
    "    matrix = np.vstack(curves)\n",
    "    stacked_annotations = np.hstack(anns)\n",
    "    stacked_annotations = list(map(lambda x : classes_mapping[x] if x in classes_mapping else 2 , stacked_annotations))\n",
    "     \n",
    "    df[\"'Betti'\"] = matrix.tolist()\n",
    "    df['class'] = stacked_annotations\n",
    "\n",
    "    return df"
   ]
  },
  {
   "cell_type": "code",
   "execution_count": 122,
   "metadata": {},
   "outputs": [],
   "source": [
    "# TODO remove limited reading of the samples\n",
    "arrhythmia_records, arrhythmia_anns = read_samples('arrhythmia', 2)\n",
    "# normal_records, normal_anns = read_samples('normal-sinus')"
   ]
  },
  {
   "cell_type": "code",
   "execution_count": 124,
   "metadata": {},
   "outputs": [],
   "source": [
    "df = preprocess_flow(arrhythmia_records, arrhythmia_anns)\n",
    "df.to_csv('../data/preprocessed.csv')\n"
   ]
  },
  {
   "cell_type": "code",
   "execution_count": null,
   "metadata": {},
   "outputs": [],
   "source": [
    "plt.plot(df[1][3])\n",
    "plt.plot(df[2][1])\n",
    "plt.plot(df[2][5])\n",
    "plt.plot(df[0][3])\n",
    "\n",
    "plt.legend(labels=[f'df[1][3] {annots[1][3]}',\n",
    "                   f'df[2][1] {annots[2][1]}',\n",
    "                   f'df[2][5] {annots[2][5]}',\n",
    "                   f'df[0][3] {annots[0][3]}',])"
   ]
  },
  {
   "cell_type": "code",
   "execution_count": null,
   "metadata": {},
   "outputs": [],
   "source": [
    "# annotation = wfdb.rdann('../data/arrhythmia/100', 'atr')\n",
    "# record = wfdb.rdrecord('../data/arrhythmia/100')\n",
    "# display(annotation.symbol)"
   ]
  },
  {
   "cell_type": "code",
   "execution_count": null,
   "metadata": {},
   "outputs": [],
   "source": [
    "# c = preprocess_flow([record], [annotation])"
   ]
  },
  {
   "cell_type": "code",
   "execution_count": null,
   "metadata": {},
   "outputs": [],
   "source": []
  }
 ],
 "metadata": {
  "language_info": {
   "codemirror_mode": {
    "name": "ipython",
    "version": 3
   },
   "file_extension": ".py",
   "mimetype": "text/x-python",
   "name": "python",
   "nbconvert_exporter": "python",
   "pygments_lexer": "ipython3",
   "version": "3.8.2-final"
  },
  "orig_nbformat": 2,
  "kernelspec": {
   "name": "python38264bittdacondaa1cfc7315f7c4cbc8f0b399fa18d7e84",
   "display_name": "Python 3.8.2 64-bit ('tda': conda)"
  }
 },
 "nbformat": 4,
 "nbformat_minor": 2
}